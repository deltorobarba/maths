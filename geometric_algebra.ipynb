{
  "nbformat": 4,
  "nbformat_minor": 0,
  "metadata": {
    "colab": {
      "provenance": [],
      "authorship_tag": "ABX9TyN3gHSoADqgokCVkINaCC2w",
      "include_colab_link": true
    },
    "kernelspec": {
      "name": "python3",
      "display_name": "Python 3"
    },
    "language_info": {
      "name": "python"
    }
  },
  "cells": [
    {
      "cell_type": "markdown",
      "metadata": {
        "id": "view-in-github",
        "colab_type": "text"
      },
      "source": [
        "<a href=\"https://colab.research.google.com/github/deltorobarba/maths/blob/main/geometric_algebra.ipynb\" target=\"_parent\"><img src=\"https://colab.research.google.com/assets/colab-badge.svg\" alt=\"Open In Colab\"/></a>"
      ]
    },
    {
      "cell_type": "markdown",
      "source": [
        "Geometric algebra, particularly spacetime algebra, is a powerful framework for describing geometry in various dimensions\n",
        "\n",
        "using the spacetime algebra (STA), which includes basis vectors for time and space in special relativity"
      ],
      "metadata": {
        "id": "2eQTZwRlpkRR"
      }
    },
    {
      "cell_type": "markdown",
      "source": [
        "https://clifford.readthedocs.io/en/latest/api/generated/clifford.tools.g3c.html"
      ],
      "metadata": {
        "id": "LF3Xo70pqK3K"
      }
    },
    {
      "cell_type": "code",
      "source": [
        "!pip install clifford matplotlib -q"
      ],
      "metadata": {
        "colab": {
          "base_uri": "https://localhost:8080/"
        },
        "id": "58o2h-X6pZWc",
        "outputId": "0e237f2f-a165-4966-e37f-4abebce65bc0"
      },
      "execution_count": 1,
      "outputs": [
        {
          "output_type": "stream",
          "name": "stdout",
          "text": [
            "\u001b[2K   \u001b[90m━━━━━━━━━━━━━━━━━━━━━━━━━━━━━━━━━━━━━━━━\u001b[0m \u001b[32m159.3/159.3 kB\u001b[0m \u001b[31m2.3 MB/s\u001b[0m eta \u001b[36m0:00:00\u001b[0m\n",
            "\u001b[2K   \u001b[90m━━━━━━━━━━━━━━━━━━━━━━━━━━━━━━━━━━━━━━━━\u001b[0m \u001b[32m237.3/237.3 kB\u001b[0m \u001b[31m9.6 MB/s\u001b[0m eta \u001b[36m0:00:00\u001b[0m\n",
            "\u001b[?25h"
          ]
        }
      ]
    },
    {
      "cell_type": "code",
      "source": [
        "!pip install numba -q"
      ],
      "metadata": {
        "id": "ETKnuRQ6p2ZN"
      },
      "execution_count": 4,
      "outputs": []
    },
    {
      "cell_type": "code",
      "execution_count": 5,
      "metadata": {
        "colab": {
          "base_uri": "https://localhost:8080/",
          "height": 367
        },
        "id": "kLCnKomOpPZV",
        "outputId": "c945998f-b000-4225-f9e2-6ab454971bdd"
      },
      "outputs": [
        {
          "output_type": "error",
          "ename": "AttributeError",
          "evalue": "module 'numba' has no attribute 'generated_jit'",
          "traceback": [
            "\u001b[0;31m---------------------------------------------------------------------------\u001b[0m",
            "\u001b[0;31mAttributeError\u001b[0m                            Traceback (most recent call last)",
            "\u001b[0;32m<ipython-input-5-95c90623cec7>\u001b[0m in \u001b[0;36m<cell line: 6>\u001b[0;34m()\u001b[0m\n\u001b[1;32m      4\u001b[0m \u001b[0;32mimport\u001b[0m \u001b[0mnumpy\u001b[0m \u001b[0;32mas\u001b[0m \u001b[0mnp\u001b[0m\u001b[0;34m\u001b[0m\u001b[0;34m\u001b[0m\u001b[0m\n\u001b[1;32m      5\u001b[0m \u001b[0;32mimport\u001b[0m \u001b[0mmatplotlib\u001b[0m\u001b[0;34m.\u001b[0m\u001b[0mpyplot\u001b[0m \u001b[0;32mas\u001b[0m \u001b[0mplt\u001b[0m\u001b[0;34m\u001b[0m\u001b[0;34m\u001b[0m\u001b[0m\n\u001b[0;32m----> 6\u001b[0;31m \u001b[0;32mfrom\u001b[0m \u001b[0mclifford\u001b[0m\u001b[0;34m.\u001b[0m\u001b[0mg3c\u001b[0m \u001b[0;32mimport\u001b[0m \u001b[0mlayout\u001b[0m\u001b[0;34m,\u001b[0m \u001b[0mblades\u001b[0m\u001b[0;34m\u001b[0m\u001b[0;34m\u001b[0m\u001b[0m\n\u001b[0m\u001b[1;32m      7\u001b[0m \u001b[0;34m\u001b[0m\u001b[0m\n\u001b[1;32m      8\u001b[0m \u001b[0;31m# Define the basis for spacetime algebra\u001b[0m\u001b[0;34m\u001b[0m\u001b[0;34m\u001b[0m\u001b[0m\n",
            "\u001b[0;32m/usr/local/lib/python3.10/dist-packages/clifford/__init__.py\u001b[0m in \u001b[0;36m<module>\u001b[0;34m\u001b[0m\n\u001b[1;32m     93\u001b[0m \u001b[0;34m\u001b[0m\u001b[0m\n\u001b[1;32m     94\u001b[0m \u001b[0;32mfrom\u001b[0m \u001b[0;34m.\u001b[0m\u001b[0m_version\u001b[0m \u001b[0;32mimport\u001b[0m \u001b[0m__version__\u001b[0m  \u001b[0;31m# noqa: F401\u001b[0m\u001b[0;34m\u001b[0m\u001b[0;34m\u001b[0m\u001b[0m\n\u001b[0;32m---> 95\u001b[0;31m \u001b[0;32mfrom\u001b[0m \u001b[0;34m.\u001b[0m \u001b[0;32mimport\u001b[0m \u001b[0m_numba_utils\u001b[0m\u001b[0;34m\u001b[0m\u001b[0;34m\u001b[0m\u001b[0m\n\u001b[0m\u001b[1;32m     96\u001b[0m \u001b[0;34m\u001b[0m\u001b[0m\n\u001b[1;32m     97\u001b[0m \u001b[0;32mfrom\u001b[0m \u001b[0;34m.\u001b[0m\u001b[0m_settings\u001b[0m \u001b[0;32mimport\u001b[0m \u001b[0mpretty\u001b[0m\u001b[0;34m,\u001b[0m \u001b[0mugly\u001b[0m\u001b[0;34m,\u001b[0m \u001b[0meps\u001b[0m\u001b[0;34m,\u001b[0m \u001b[0mprint_precision\u001b[0m  \u001b[0;31m# noqa: F401\u001b[0m\u001b[0;34m\u001b[0m\u001b[0;34m\u001b[0m\u001b[0m\n",
            "\u001b[0;32m/usr/local/lib/python3.10/dist-packages/clifford/_numba_utils.py\u001b[0m in \u001b[0;36m<module>\u001b[0;34m\u001b[0m\n\u001b[1;32m     83\u001b[0m \u001b[0;32mif\u001b[0m \u001b[0;32mnot\u001b[0m \u001b[0mDISABLE_JIT\u001b[0m\u001b[0;34m:\u001b[0m\u001b[0;34m\u001b[0m\u001b[0;34m\u001b[0m\u001b[0m\n\u001b[1;32m     84\u001b[0m     \u001b[0mnjit\u001b[0m \u001b[0;34m=\u001b[0m \u001b[0mnumba\u001b[0m\u001b[0;34m.\u001b[0m\u001b[0mnjit\u001b[0m\u001b[0;34m\u001b[0m\u001b[0;34m\u001b[0m\u001b[0m\n\u001b[0;32m---> 85\u001b[0;31m     \u001b[0mgenerated_jit\u001b[0m \u001b[0;34m=\u001b[0m \u001b[0mnumba\u001b[0m\u001b[0;34m.\u001b[0m\u001b[0mgenerated_jit\u001b[0m\u001b[0;34m\u001b[0m\u001b[0;34m\u001b[0m\u001b[0m\n\u001b[0m\u001b[1;32m     86\u001b[0m \u001b[0;32melse\u001b[0m\u001b[0;34m:\u001b[0m\u001b[0;34m\u001b[0m\u001b[0;34m\u001b[0m\u001b[0m\n\u001b[1;32m     87\u001b[0m     \u001b[0;32mdef\u001b[0m \u001b[0mnjit\u001b[0m\u001b[0;34m(\u001b[0m\u001b[0mf\u001b[0m\u001b[0;34m=\u001b[0m\u001b[0;32mNone\u001b[0m\u001b[0;34m,\u001b[0m \u001b[0;34m**\u001b[0m\u001b[0mkwargs\u001b[0m\u001b[0;34m)\u001b[0m\u001b[0;34m:\u001b[0m\u001b[0;34m\u001b[0m\u001b[0;34m\u001b[0m\u001b[0m\n",
            "\u001b[0;31mAttributeError\u001b[0m: module 'numba' has no attribute 'generated_jit'"
          ]
        }
      ],
      "source": [
        "# Install the clifford library if you haven't already\n",
        "# pip install clifford\n",
        "\n",
        "import numpy as np\n",
        "import matplotlib.pyplot as plt\n",
        "from clifford.g3c import layout, blades\n",
        "\n",
        "# Define the basis for spacetime algebra\n",
        "e1, e2, e3, e0, einf = blades['e1'], blades['e2'], blades['e3'], blades['e0'], blades['einf']\n",
        "e12 = e1 ^ e2  # Wedge product (area element in 1-2 plane)\n",
        "e123 = e1 ^ e2 ^ e3  # Volume element\n",
        "\n",
        "# Basic operations in spacetime algebra\n",
        "a = 3 * e1 + 2 * e2 + 1 * e3  # Some vector\n",
        "b = 4 * e1 - 1 * e2 + 5 * e3  # Another vector\n",
        "\n",
        "# Inner and outer (wedge) products\n",
        "inner_prod = a | b\n",
        "outer_prod = a ^ b\n",
        "\n",
        "print(\"Inner Product:\", inner_prod)\n",
        "print(\"Outer Product:\", outer_prod)\n",
        "\n",
        "# Rotations using rotors\n",
        "# Example: Rotate vector `a` by 90 degrees in the 1-2 plane\n",
        "theta = np.pi / 2  # 90 degrees\n",
        "R = np.cos(theta / 2) - np.sin(theta / 2) * e12  # Rotor for 90-degree rotation in e12 plane\n",
        "a_rotated = R * a * ~R  # Rotate a by applying R and its reverse (~R)\n",
        "\n",
        "print(\"Original Vector a:\", a)\n",
        "print(\"Rotated Vector a:\", a_rotated)\n",
        "\n",
        "# Visualizing the rotation\n",
        "fig, ax = plt.subplots()\n",
        "ax.quiver(0, 0, a[1], a[2], angles='xy', scale_units='xy', scale=1, color='r', label='Original a')\n",
        "ax.quiver(0, 0, a_rotated[1], a_rotated[2], angles='xy', scale_units='xy', scale=1, color='b', label='Rotated a')\n",
        "\n",
        "ax.set_xlim([-5, 5])\n",
        "ax.set_ylim([-5, 5])\n",
        "ax.set_aspect('equal', 'box')\n",
        "plt.grid()\n",
        "plt.legend()\n",
        "plt.show()\n"
      ]
    },
    {
      "cell_type": "markdown",
      "source": [
        "Certainly! Geometric algebra, particularly spacetime algebra, is a powerful framework for describing geometry in various dimensions. In Python, you can use the `clifford` library, which is well-suited for handling geometric algebras, to work with these concepts.\n",
        "\n",
        "Here's an example of code using the spacetime algebra (STA), which includes basis vectors for time and space in special relativity.\n",
        "\n",
        "```python\n",
        "# Install the clifford library if you haven't already\n",
        "# pip install clifford\n",
        "\n",
        "import numpy as np\n",
        "import matplotlib.pyplot as plt\n",
        "from clifford.g3c import layout, blades\n",
        "\n",
        "# Define the basis for spacetime algebra\n",
        "e1, e2, e3, e0, einf = blades['e1'], blades['e2'], blades['e3'], blades['e0'], blades['einf']\n",
        "e12 = e1 ^ e2  # Wedge product (area element in 1-2 plane)\n",
        "e123 = e1 ^ e2 ^ e3  # Volume element\n",
        "\n",
        "# Basic operations in spacetime algebra\n",
        "a = 3 * e1 + 2 * e2 + 1 * e3  # Some vector\n",
        "b = 4 * e1 - 1 * e2 + 5 * e3  # Another vector\n",
        "\n",
        "# Inner and outer (wedge) products\n",
        "inner_prod = a | b\n",
        "outer_prod = a ^ b\n",
        "\n",
        "print(\"Inner Product:\", inner_prod)\n",
        "print(\"Outer Product:\", outer_prod)\n",
        "\n",
        "# Rotations using rotors\n",
        "# Example: Rotate vector `a` by 90 degrees in the 1-2 plane\n",
        "theta = np.pi / 2  # 90 degrees\n",
        "R = np.cos(theta / 2) - np.sin(theta / 2) * e12  # Rotor for 90-degree rotation in e12 plane\n",
        "a_rotated = R * a * ~R  # Rotate a by applying R and its reverse (~R)\n",
        "\n",
        "print(\"Original Vector a:\", a)\n",
        "print(\"Rotated Vector a:\", a_rotated)\n",
        "\n",
        "# Visualizing the rotation\n",
        "fig, ax = plt.subplots()\n",
        "ax.quiver(0, 0, a[1], a[2], angles='xy', scale_units='xy', scale=1, color='r', label='Original a')\n",
        "ax.quiver(0, 0, a_rotated[1], a_rotated[2], angles='xy', scale_units='xy', scale=1, color='b', label='Rotated a')\n",
        "\n",
        "ax.set_xlim([-5, 5])\n",
        "ax.set_ylim([-5, 5])\n",
        "ax.set_aspect('equal', 'box')\n",
        "plt.grid()\n",
        "plt.legend()\n",
        "plt.show()\n",
        "```\n",
        "\n",
        "In this example:\n",
        "- We initialize spacetime basis vectors `e1`, `e2`, `e3`, `e0` (origin), and `einf` (infinity) from the `clifford.g3c` module.\n",
        "- Perform inner and outer (wedge) products to explore vector relationships.\n",
        "- Use a rotor to rotate a vector by 90 degrees in the 1-2 plane.\n",
        "\n",
        "This code provides a starting point for exploring STA and visualizing vector transformations. Let me know if you'd like to expand on this, like adding spacetime diagrams or exploring other aspects of geometric algebra!"
      ],
      "metadata": {
        "id": "Vu12jNI4pvjE"
      }
    }
  ]
}